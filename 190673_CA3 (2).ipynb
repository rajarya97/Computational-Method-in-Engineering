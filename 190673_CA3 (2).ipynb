{
  "nbformat": 4,
  "nbformat_minor": 0,
  "metadata": {
    "colab": {
      "name": "190673_CA3.ipynb",
      "provenance": [],
      "collapsed_sections": []
    },
    "kernelspec": {
      "name": "python3",
      "display_name": "Python 3"
    },
    "language_info": {
      "name": "python"
    }
  },
  "cells": [
    {
      "cell_type": "code",
      "metadata": {
        "id": "KAUYijaEWoRE"
      },
      "source": [
        "import numpy as np\n",
        "\n",
        "def taking_input():\n",
        "  m = int(input(\"Enter order: \"))\n",
        "  n = m\n",
        "\n",
        "  print(\"Start entering rows of the matrix:\")\n",
        "\n",
        "  A = []\n",
        "\n",
        "  for i in range(m):\n",
        "      A.append(np.array(list(map(float, input().strip().split()[:n]))))\n",
        "\n",
        "  A = np.array(A)\n",
        "  max_iter = int(input(\"max interations: \"))\n",
        "  tol = float(input(\"tolerance\"))\n",
        "  \n",
        "  return A, max_iter,tol"
      ],
      "execution_count": null,
      "outputs": []
    },
    {
      "cell_type": "markdown",
      "metadata": {
        "id": "07zlhx_JY_Kj"
      },
      "source": [
        "## Direct Power Method\n",
        "\n"
      ]
    },
    {
      "cell_type": "code",
      "metadata": {
        "id": "WjdstLFgbOWf"
      },
      "source": [
        "def dpm(a,x, tolerable_error=0.001, max_iterations=100):\n",
        "  lambda_old = 1.0\n",
        "  condition =  True\n",
        "  step = 1\n",
        "  while condition:\n",
        "    \n",
        "    x = np.matmul(a,x)\n",
        "    \n",
        "    \n",
        "    lambda_new = max(abs(x))\n",
        "    \n",
        "    x = x/lambda_new\n",
        "   \n",
        "    step = step + 1\n",
        "    if step > max_iterations:\n",
        "        print('Not convergent in given maximum iteration!')\n",
        "        break\n",
        "    \n",
        "    error = abs(lambda_new - lambda_old)\n",
        "    \n",
        "    lambda_old = lambda_new\n",
        "    condition = error > tolerable_error\n",
        "  return x, lambda_new\n"
      ],
      "execution_count": null,
      "outputs": []
    },
    {
      "cell_type": "markdown",
      "metadata": {
        "id": "6vxnWYdaoDsC"
      },
      "source": [
        "## Shifted Power Method"
      ]
    },
    {
      "cell_type": "code",
      "metadata": {
        "id": "ShEv4W_Tsji7"
      },
      "source": [
        "def spm(a, x, s, tolerable_error=0.001, max_iteration=100):\n",
        "  b = np.identity(len(a), dtype = float)\n",
        "  a_shifted = np.subtract(a, s*b)\n",
        "  return dpm(a_shifted, x, tolerable_error, max_iteration)\n",
        "\n"
      ],
      "execution_count": null,
      "outputs": []
    },
    {
      "cell_type": "markdown",
      "metadata": {
        "id": "ceB6V7Sm08IF"
      },
      "source": [
        "##QR Method"
      ]
    },
    {
      "cell_type": "code",
      "metadata": {
        "id": "wgSYseVjdBFV"
      },
      "source": [
        "import numpy as np\n",
        "def mat_round(M):\n",
        "    for i in range(len(M)):\n",
        "        for j in range(len(M[i])):\n",
        "            M[i][j] = round(M[i][j], 5)\n",
        "\n",
        "def getQ(M):\n",
        "    Q = []\n",
        "    M = np.transpose(M)\n",
        "\n",
        "    for i in range(len(M)):\n",
        "        v = np.copy(M[i])\n",
        "        for j in range(i):\n",
        "            v -= (np.dot(M[i], Q[j]) / np.dot(Q[j], Q[j])) * Q[j]\n",
        "        Q.append(v)\n",
        "\n",
        "    Q = np.array(list(map(lambda v: v / sum(v**2)**0.5, Q)))\n",
        "    Q = Q.transpose()\n",
        "\n",
        "    return Q\n",
        "\n",
        "def getR(M, Q):\n",
        "    Q_t = np.transpose(Q)\n",
        "    return np.matmul(Q_t, M)\n",
        "def checkDiagonal(arr):\n",
        "    for i in range(len(arr)):\n",
        "        for j in range(len(arr[i])):\n",
        "            if i == j:\n",
        "                continue\n",
        "            else:\n",
        "                if abs(arr[i][j]) > 0.001:\n",
        "                    return False\n",
        "    return True\n",
        "def convert_to_float(arr):\n",
        "  A = []\n",
        "  for i in range(len(arr)):\n",
        "    A.append(np.array(list(map(float, arr[i]))))\n",
        "  return A\n",
        "\n",
        "def qrFactorization(arr):\n",
        "    temp = arr\n",
        "    i = 0\n",
        "    while(True):\n",
        "        A = convert_to_float(temp)\n",
        "        Q = getQ(A)\n",
        "        R = getR(A, Q)\n",
        "        temp = np.dot(R, Q)\n",
        "        if(checkDiagonal(temp)):\n",
        "            break\n",
        "        else:\n",
        "            i += 1\n",
        "    return temp\n",
        "\n",
        "def printLambda(arr):\n",
        "    count = 1\n",
        "    for i in range(len(arr)):\n",
        "        for j in range(len(arr[i])):\n",
        "            if(i == j):\n",
        "                temp = arr[i][j]\n",
        "                if(abs(temp) < 0.000000000001):\n",
        "                    temp = 0\n",
        "                print(\"Lambda \"+str(count) +\": \" + str(temp))\n",
        "                count += 1\n"
      ],
      "execution_count": null,
      "outputs": []
    },
    {
      "cell_type": "code",
      "metadata": {
        "colab": {
          "base_uri": "https://localhost:8080/"
        },
        "id": "4ywrrKqKX1ye",
        "outputId": "25d65f88-005c-4e95-cd8a-cad445e46822"
      },
      "source": [
        "def Question_1(method):\n",
        "    switcher = {\n",
        "        1: \"Direct Power Method\",\n",
        "        2: \"Inverse Power Method\",\n",
        "        3: \"Shifted Power Method\",\n",
        "        4: \"QR Method\",\n",
        "    }\n",
        "\n",
        "    if switcher.get(method) == \"Direct Power Method\":\n",
        "      print(\"You choose: \" + switcher.get(method))\n",
        "      A ,max_iter,tol= taking_input()\n",
        "      x,lambda_new = dpm(A,[1,1,1],tol,max_iter)\n",
        "      print(\"Eigen vector \",x)\n",
        "      print(\"Eigen value \",lambda_new)\n",
        "      \n",
        "      \n",
        "\n",
        "    elif switcher.get(method) == \"Inverse Power Method\":\n",
        "      print(\"You choose: \" + switcher.get(method))\n",
        "      A,max_iter,tol = taking_input()\n",
        "      A = np.linalg.inv(A)\n",
        "      x,lambda_new = dpm(A,[1,1,1],tol,max_iter)\n",
        "      print(\"Eigen vector \",x)\n",
        "      print(\"Eigen value \",1./lambda_new)\n",
        "      \n",
        "\n",
        "    elif switcher.get(method) == \"Shifted Power Method\":\n",
        "      print(\"You choose: \" + switcher.get(method))\n",
        "      A,max_iter,tol = taking_input()\n",
        "      shift = float(input(\"input shift\"))\n",
        "      x ,lambda_new = spm(A,[1,1,1],shift,tol,max_iter)\n",
        "      \n",
        "      print(x)\n",
        "      print(1/lambda_new+8)\n",
        "      \n",
        "\n",
        "\n",
        "\n",
        "\n",
        "    elif switcher.get(method) == \"QR Method\":\n",
        "      print(\"You choose: \" + switcher.get(method))\n",
        "      A,max_iter,tol= taking_input()\n",
        "      printLambda(qrFactorization(A))\n",
        "      \n",
        "\n",
        "\n",
        "print(\"Choose the number : \", {\n",
        "      1: \"Direct Power Method\",\n",
        "        2: \"Inverse Power Method\",\n",
        "        3: \"Shifted Power Method\",\n",
        "        4: \"QR Method\",\n",
        "     \n",
        "    })\n",
        "\n",
        "# A = np.array([[4, 2, 0], [2, 4, 1], [0, 1., 5]])\n",
        "# b = np.array([10, 11.5, 5.])\n",
        "Question_1(int(input()))"
      ],
      "execution_count": null,
      "outputs": [
        {
          "output_type": "stream",
          "name": "stdout",
          "text": [
            "Choose the number :  {1: 'Direct Power Method', 2: 'Inverse Power Method', 3: 'Shifted Power Method', 4: 'QR Method'}\n",
            "4\n",
            "You choose: QR Method\n",
            "Enter order: 3\n",
            "Start entering rows of the matrix:\n",
            "8 -1 -1\n",
            "-1 4 -2\n",
            "-1 -2 10\n",
            "max interations: 100 \n",
            "tolerance0.001\n",
            "Lamda 1: 10.778927819434513\n",
            "Lamda 2: 8.14613097285033\n",
            "Lamda 3: 3.074941207715167\n"
          ]
        }
      ]
    },
    {
      "cell_type": "code",
      "metadata": {
        "id": "wGc1ss5wfoVh"
      },
      "source": [
        ""
      ],
      "execution_count": null,
      "outputs": []
    }
  ]
}