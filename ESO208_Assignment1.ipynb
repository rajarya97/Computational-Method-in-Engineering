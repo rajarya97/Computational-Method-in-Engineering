{
  "nbformat": 4,
  "nbformat_minor": 0,
  "metadata": {
    "colab": {
      "name": "ESO208_Assignment1_(1)_(2) (1).ipynb",
      "provenance": [],
      "collapsed_sections": []
    },
    "kernelspec": {
      "name": "python3",
      "display_name": "Python 3"
    },
    "language_info": {
      "name": "python"
    }
  },
  "cells": [
    {
      "cell_type": "code",
      "metadata": {
        "id": "hikRX2NnTrlt"
      },
      "source": [
        "from sympy import var\n",
        "from sympy import sympify\n",
        "from sympy.utilities.lambdify import lambdify\n",
        "import math\n",
        "import numpy as np"
      ],
      "execution_count": 22,
      "outputs": []
    },
    {
      "cell_type": "markdown",
      "metadata": {
        "id": "J847KaTzvi_K"
      },
      "source": [
        "##Question 1"
      ]
    },
    {
      "cell_type": "code",
      "metadata": {
        "id": "HjJuQAv2QAFG"
      },
      "source": [
        "def question_1(method):\n",
        "    switch = {\n",
        "        1: \"Bisection Method\",\n",
        "        2: \"False-position Method\",\n",
        "        3: \"Modified false-position Method\",\n",
        "        4: \"Newton-Raphson Method\",\n",
        "        5: \"Secant Method\"\n",
        "    }\n",
        "\n",
        "    if switch.get(method) == \"Bisection Method\":\n",
        "      print(\"Your choice: \" + switch.get(method))\n",
        "      f = input(\"equation with which you want to work: \")\n",
        "      a = float(input(\"first initial point for the entered equation: \"))\n",
        "      b = float(input(\"second initial point for the entered equation: \"))\n",
        "      tol = float(input(\"maximum relative approximate error in percentage (without % sign): \"))\n",
        "      tol = tol/100\n",
        "      maxit = int(input(\"number of iterations upto which you want to observe your equation: \"))\n",
        "      x = var('x')\n",
        "      expr = sympify(f)\n",
        "      f = lambdify(x, expr)\n",
        "      x,e = bisection(f, a, b, tol , maxit )\n",
        "      plot(f,e,x)\n",
        "      print(\"Root of the equation: x = {}\".format(x))\n",
        "      \n",
        "    elif switch.get(method) == \"False-position Method\":\n",
        "      print(\"Your choice: \" + switch.get(method))\n",
        "      f = input(\"equation with which you want to work: \")\n",
        "      a = float(input(\"first inital point for the entered equation: \"))\n",
        "      b = float(input(\"second inital point for the entered equation: \"))\n",
        "      tol = float(input(\"maximum relative approximate error in percentage (without % sign): \"))\n",
        "      tol = tol/100\n",
        "      maxit = int(input(\"number of interations upto which you want to observe your equation: \"))\n",
        "      x = var('x')\n",
        "      expr = sympify(f)\n",
        "      f = lambdify(x, expr)\n",
        "      x,e = false_position(f, a, b, tol , maxit )\n",
        "      plot(f,e,x)\n",
        "      print(\"Root of the equation: x = {}\".format(x))\n",
        "\n",
        "\n",
        "\n",
        "    elif switch.get(method) == \"Modified false-position Method\":\n",
        "      print(\"Your choice: \" + switch.get(method))\n",
        "      f = input(\"equation with which you want to work: \")\n",
        "      a = float(input(\"first inital point for the entered equation: \"))\n",
        "      b = float(input(\"second inital point for the entered equation: \"))\n",
        "      tol = float(input(\"maximum relative approximate error in percentage (without % sign): \"))\n",
        "      tol = tol/100\n",
        "      maxit = int(input(\"number of interations upto which you want to observe your equation: \"))\n",
        "      x = var('x')\n",
        "      expr = sympify(f)\n",
        "      f = lambdify(x, expr)\n",
        "      x ,e=   modified_false_position(f, a, b, tol , maxit )\n",
        "      plot(f,e,x)\n",
        "      print(\"Root of the equation: x = {}\".format(x))\n",
        "\n",
        "\n",
        "\n",
        "\n",
        "    elif switch.get(method) == \"Newton-Raphson Method\":\n",
        "      print(\"Your choice: \" + switch.get(method))\n",
        "      f = input(\"equation with which you want to work: \")\n",
        "      a = float(input(\"inital point for the entered equation: \"))\n",
        "      tol = float(input(\"maximum relative approximate error in percentage (without % sign): \"))\n",
        "      maxit = int(input(\"number of interations upto which you want to observe your equation: \"))\n",
        "      tol = tol/100\n",
        "      x = var('x')\n",
        "      expr = sympify(f)\n",
        "      f = lambdify(x, expr)\n",
        "      x,e = newton(f, a, tol = 1e-10, maxit = 100)\n",
        "      plot(f,e,x)\n",
        "      print(\"Root of the equation: x = {}\".format(x))\n",
        "\n",
        "    elif switch.get(method) == \"Secant Method\":\n",
        "      print(\"Your choice: \" + switch.get(method))\n",
        "      f = input(\"equation with which you want to work: \")\n",
        "      a = float(input(\"first inital point for the entered equation: \"))\n",
        "      b = float(input(\"second inital point for the entered equation: \"))\n",
        "      tol = float(input(\"maximum relative approximate error in percentage (without % sign): \"))\n",
        "      tol = tol/100\n",
        "      maxit = int(input(\"number of interations upto which you want to observe your equation: \"))\n",
        "      \n",
        "      x = var('x')\n",
        "      expr = sympify(f)\n",
        "      f = lambdify(x, expr)\n",
        "      x,e = secant(f, a, b, tol, maxit)\n",
        "      plot(f,e,x)\n",
        "      print(\"Root of the equation: x = {}\".format(x))\n",
        "    else:\n",
        "      print(\"Invalid method\")\n",
        "\n",
        "\n",
        "\n",
        "def Question_1(method):\n",
        "    switcher = {\n",
        "        1: \"Bisection\",\n",
        "        2: \"False-position\",\n",
        "        3: \"Modified false-position\",\n",
        "        4: \"Newton-Raphson\",\n",
        "        5: \"Secant\"\n",
        "    }\n",
        "\n",
        "\n",
        "    if switcher.get(method) == \"Bisection\":\n",
        "      print(\"You choose: \" + switcher.get(method))\n",
        "      f = input(\"Please enter the funtion: \")\n",
        "      a = float(input(\"Please enter the first inital point: \"))\n",
        "      b = float(input(\"Please enter the second inital point: \"))\n",
        "      tol = float(input(\"Please enter maximum relative approximate error (in %): \"))\n",
        "      tol = tol/100\n",
        "      maxit = int(input(\"Please enter maximum interations: \"))\n",
        "      x = var('x')\n",
        "      expr = sympify(f)\n",
        "      f = lambdify(x, expr)\n",
        "      x,e = bisection(f, a, b, tol , maxit )\n",
        "      plot(f,e,x)\n",
        "      plot_raj(f,e,x)\n",
        "      print(\"Root of the equation: x = {}, f(x) = {}\".format(x, f(x)))\n",
        "      \n",
        "\n",
        "    elif switcher.get(method) == \"False-position\":\n",
        "      print(\"You choose: \" + switcher.get(method))\n",
        "      f = input(\"Please enter the funtion: \")\n",
        "      a = float(input(\"Please enter the first inital point: \"))\n",
        "      b = float(input(\"Please enter the second inital point: \"))\n",
        "      tol = float(input(\"Please enter maximum relative approximate error (in %): \"))\n",
        "      tol = tol/100\n",
        "      maxit = int(input(\"Please enter maximum interations: \"))\n",
        "      x = var('x')\n",
        "      expr = sympify(f)\n",
        "      f = lambdify(x, expr)\n",
        "      x,e = false_position(f, a, b, tol , maxit )\n",
        "      plot(f,e,x)\n",
        "      plot_raj(f,e,x)\n",
        "      print(\"Root of the equation: x = {}, f(x) = {}\".format(x, f(x)))\n",
        "\n",
        "\n",
        "\n",
        "    elif switcher.get(method) == \"Modified false-position\":\n",
        "\n",
        "      print(\"You choose: \" + switcher.get(method))\n",
        "      print('Wrong output')\n",
        "      # f = input(\"Please enter the funtion: \")\n",
        "      # a = float(input(\"Please enter the first inital point: \"))\n",
        "      # b = float(input(\"Please enter the second inital point: \"))\n",
        "      # tol = float(input(\"Please enter maximum relative approximate error (in %): \"))\n",
        "      # tol = tol/100\n",
        "      # maxit = int(input(\"Please enter maximum interations: \"))\n",
        "      # x = var('x')\n",
        "      # expr = sympify(f)\n",
        "      # f = lambdify(x, expr)\n",
        "      # x ,e=   modified_false_position(f, a, b, tol , maxit )\n",
        "      # plot(f,e,x)\n",
        "      # plot_raj(f,e,x)\n",
        "      # print(\"Root of the equation: x = {}, f(x) = {}\".format(x, f(x)))\n",
        "\n",
        "\n",
        "\n",
        "\n",
        "    elif switcher.get(method) == \"Newton-Raphson\":\n",
        "      print(\"You choose: \" + switcher.get(method))\n",
        "      f = input(\"Please enter the funtion: \")\n",
        "      a = float(input(\"Please enter the inital point: \"))\n",
        "      tol = float(input(\"Please enter maximum relative approximate error (in %): \"))\n",
        "      maxit = int(input(\"Please enter maximum interations: \"))\n",
        "      tol = tol/100\n",
        "      x = var('x')\n",
        "      expr = sympify(f)\n",
        "      f = lambdify(x, expr)\n",
        "      x,e = newton(f, a, tol = 1e-10, maxit = 100)\n",
        "      plot(f,e,x)\n",
        "      plot_raj(f,e,x)\n",
        "      print(\"Root of the equation: x = {}, f(x) = {}\".format(x, f(x)))\n",
        "\n",
        "    elif switcher.get(method) == \"Secant\":\n",
        "      print(\"You choose: \" + switcher.get(method))\n",
        "      f = input(\"Please enter the funtion: \")\n",
        "      a = float(input(\"Please enter the first inital point: \"))\n",
        "      b = float(input(\"Please enter the second inital point: \"))\n",
        "      tol = float(input(\"Please enter maximum relative approximate error (in %): \"))\n",
        "      tol = tol/100\n",
        "      maxit = int(input(\"Please enter maximum interations: \"))\n",
        "      x = var('x')\n",
        "      expr = sympify(f)\n",
        "      f = lambdify(x, expr)\n",
        "      x,e = secant(f, a, b, tol, maxit)\n",
        "      plot(f,e,x)\n",
        "      plot_raj(f,e,x)\n",
        "      print(\"Root of the equation: x = {}, f(x) = {}\".format(x, f(x)))\n",
        "\n",
        "    else:\n",
        "      print(\"Invalid method\")\n",
        "    "
      ],
      "execution_count": 42,
      "outputs": []
    },
    {
      "cell_type": "markdown",
      "metadata": {
        "id": "VzRPd9Rovs6A"
      },
      "source": [
        "Codes for Plotting the curve"
      ]
    },
    {
      "cell_type": "code",
      "metadata": {
        "id": "YLRpjmgTyZ_3"
      },
      "source": [
        "import matplotlib.pyplot as plt\n",
        "import numpy as np\n",
        "\n",
        "def plot(f,error,root):\n",
        "  x1 = np.linspace(-10,10,1000)\n",
        "  x2 = np.linspace(1,len(error),len(error))\n",
        "  y1 = f(x1)\n",
        "\n",
        "  y2 = error\n",
        "\n",
        "  plt.subplot(1, 2, 1) # row 1, col 2 index 1\n",
        "  plt.plot(x1, y1)\n",
        "  plt.title(\"f(x) vs x\")\n",
        "  plt.xlabel('x ')\n",
        "  plt.ylabel('f(x) ')\n",
        "\n",
        "  plt.subplot(1, 2, 2) # index 2\n",
        "  plt.plot(x2, y2, marker='o')\n",
        "  plt.title(\"relative approximate error vs iteration\")\n",
        "  plt.xlabel('iteration ')\n",
        "  plt.ylabel('relative approximate error ')\n",
        "  \n",
        "  plt.show()\n"
      ],
      "execution_count": 25,
      "outputs": []
    },
    {
      "cell_type": "markdown",
      "metadata": {
        "id": "wCHfM8__y5yj"
      },
      "source": [
        "**Given Test Cases:**\n",
        "\n",
        "\n",
        "1.    600x^4 - 550x^3 +200x^2 - 20^x - 1\n",
        "2.    exp(-x) - x\n",
        "\n"
      ]
    },
    {
      "cell_type": "markdown",
      "metadata": {
        "id": "Pt-vv8Bb0XTH"
      },
      "source": [
        "0# **Bisection method**\n"
      ]
    },
    {
      "cell_type": "code",
      "metadata": {
        "id": "nGZiCMs5yNru"
      },
      "source": [
        "def bisection(f, a, b, tol, maxit):\n",
        "    error = []\n",
        "    fa = f(a)\n",
        "    if abs(fa) < tol:\n",
        "        return a\n",
        "\n",
        "    fb = f(b)\n",
        "    if abs(fb) < tol:\n",
        "        return b\n",
        "\n",
        "    if fa*fb > 0:\n",
        "        print(\"f(a) and f(b) must have different signs.\")\n",
        "        return None\n",
        "\n",
        "    for k in range(maxit):\n",
        "        \n",
        "        c = (a + b)/2\n",
        "        error.append(c)\n",
        "        fc = f(c)\n",
        "\n",
        "        if abs(b - a) < tol:\n",
        "            break\n",
        "       \n",
        "        if abs(fc) < tol:\n",
        "            break\n",
        "\n",
        "        if fa*fc > 0:\n",
        "            a, fa = c, fc\n",
        "\n",
        "        if fb*fc > 0:\n",
        "            b, fb = c, fc\n",
        "    e = []\n",
        "    for m in range(len(error)-1):\n",
        "      e.append(abs((error[m+1]-error[m])/error[m+1]))\n",
        "\n",
        "    return c,e"
      ],
      "execution_count": 26,
      "outputs": []
    },
    {
      "cell_type": "markdown",
      "metadata": {
        "id": "BtNS7tsSwhJe"
      },
      "source": [
        "#**False Position Method**"
      ]
    },
    {
      "cell_type": "code",
      "metadata": {
        "id": "jz0TPx88l-wE"
      },
      "source": [
        "def false_position(f, a, b, tol = 1e-10, maxit = 100):\n",
        "    error = []\n",
        "    if f(a) * f(b) >= 0:\n",
        "        print(\"You have not assumed right a and b\")\n",
        "        return -1\n",
        "     \n",
        "    result = a \n",
        "     \n",
        "    for i in range(maxit):\n",
        " \n",
        "        result = (a * f(b) - b * f(a))/ (f(b) - f(a))\n",
        "         \n",
        "        if abs(f(result)) < tol or abs(b-a) < tol:\n",
        "            break\n",
        "         \n",
        "        elif f(result) * f(a) < 0:\n",
        "            b = result\n",
        "        else:\n",
        "            a = result\n",
        "        i+=1\n",
        "        error.append(result)\n",
        "    e = []\n",
        "    for m in range(len(error)-1):\n",
        "      e.append(abs((error[m+1]-error[m])/error[m+1]))\n",
        "    return result,e"
      ],
      "execution_count": 27,
      "outputs": []
    },
    {
      "cell_type": "markdown",
      "metadata": {
        "id": "98Fu2-ECwFmY"
      },
      "source": [
        "# **Modified False Position**"
      ]
    },
    {
      "cell_type": "markdown",
      "metadata": {
        "id": "vfqcPXpmwnuE"
      },
      "source": [
        "#**Newton Raphson**"
      ]
    },
    {
      "cell_type": "code",
      "metadata": {
        "id": "in-iLvw1yNbQ"
      },
      "source": [
        "def newton(f, x0, tol, maxit):\n",
        "    error= []\n",
        "    x = x0\n",
        "    fx = f(x)\n",
        "\n",
        "    for k in range(maxit):\n",
        "        error.append(x)\n",
        "        if abs(fx) < tol:\n",
        "            break\n",
        "        dx = 1e-6\n",
        "        fpx = (f(x + dx) - f(x - dx))/(2*dx) \n",
        "        if abs(fpx) < tol:\n",
        "            break\n",
        "\n",
        "        x = x - fx/fpx\n",
        "        fx = f(x)\n",
        "    e = []\n",
        "    for m in range(len(error)-1):\n",
        "      e.append(abs(((error[m+1]-error[m])/error[m+1])))\n",
        "\n",
        "    return x,e\n"
      ],
      "execution_count": 29,
      "outputs": []
    },
    {
      "cell_type": "markdown",
      "metadata": {
        "id": "X2c0Vd87wYB-"
      },
      "source": [
        "#**Secant**"
      ]
    },
    {
      "cell_type": "code",
      "metadata": {
        "id": "6WqhnO6jyNn7"
      },
      "source": [
        "def secant(f, a, b, tol = 1e-10, maxit = 100):\n",
        "    error = []\n",
        "    fa = f(a)\n",
        "    if abs(fa) < tol:\n",
        "        return a\n",
        "\n",
        "    fb = f(b)\n",
        "    if abs(fb) < tol:\n",
        "        return b\n",
        "\n",
        "    if fa*fb > 0:\n",
        "        print(\"f(a) and f(b) must have different signs.\")\n",
        "        return None\n",
        "\n",
        "    for _ in range(maxit):\n",
        "\n",
        "        c = (a*fb - b*fa)/(fb - fa)\n",
        "        error.append(c)\n",
        "        fc = f(c)\n",
        "\n",
        "        if abs(b - a) < tol:\n",
        "            break\n",
        "        \n",
        "        if abs(fc) < tol:\n",
        "            break\n",
        "\n",
        "        if fa*fc > 0:\n",
        "            a, fa = c, fc\n",
        "\n",
        "        if fb*fc > 0:\n",
        "            b, fb = c, fc\n",
        "    e = []\n",
        "    for m in range(len(error)-1):\n",
        "      e.append(abs((error[m+1]-error[m])/error[m+1]))\n",
        "\n",
        "    return c,e\n"
      ],
      "execution_count": 30,
      "outputs": []
    },
    {
      "cell_type": "markdown",
      "metadata": {
        "id": "jCnbcDA_zWlq"
      },
      "source": [
        "Code given below allow will ask you to input any non linear function with range, maximum iteration and tolerance limit."
      ]
    },
    {
      "cell_type": "code",
      "metadata": {
        "colab": {
          "base_uri": "https://localhost:8080/",
          "height": 466
        },
        "id": "xJfa62klTenu",
        "outputId": "0fcadbe7-8e38-4559-c2f8-a6de2038732b"
      },
      "source": [
        "print(\"Choose the number corrosponding the method you want to use : \", {\n",
        "        1: \"Bisection Method\",\n",
        "        2: \"False-position Method\",\n",
        "        3: \"Modified false position Method\",\n",
        "        4: \"Newton Raphson Method\",\n",
        "        5: \"Secant Method\"\n",
        "    })\n",
        "method_number = int(input())\n",
        "question_1(method_number)"
      ],
      "execution_count": 43,
      "outputs": [
        {
          "name": "stdout",
          "output_type": "stream",
          "text": [
            "Choose the number corrosponding the method you want to use :  {1: 'Bisection Method', 2: 'False-position Method', 3: 'Modified false position Method', 4: 'Newton Raphson Method', 5: 'Secant Method'}\n",
            "1\n",
            "Your choice: Bisection Method\n",
            "equation with which you want to work: x**2-4\n",
            "first initial point for the entered equation: 1\n",
            "second initial point for the entered equation: 4\n",
            "maximum relative approximate error in percentage (without % sign): 0.0005\n",
            "number of iterations upto which you want to observe your equation: 100\n"
          ]
        },
        {
          "output_type": "display_data",
          "data": {
            "image/png": "[encoded data removed]",
            "text/plain": [
              "<Figure size 432x288 with 2 Axes>"
            ]
          },
          "metadata": {
            "needs_background": "light"
          }
        },
        {
          "output_type": "stream",
          "name": "stdout",
          "text": [
            "Root of the equation: x = 1.9999990463256836\n"
          ]
        }
      ]
    },
    {
      "cell_type": "markdown",
      "metadata": {
        "id": "mWPiG39OIWnI"
      },
      "source": [
        "# **Question 2**"
      ]
    },
    {
      "cell_type": "code",
      "metadata": {
        "id": "IIYVcoc7jpo4"
      },
      "source": [
        "def question_2(method):\n",
        "    switcher = {\n",
        "        1: \"Muller Method\",\n",
        "        2: \"Bairstow Method\",\n",
        "    }\n",
        "\n",
        "    if switcher.get(method) == \"Muller Method\":\n",
        "      print(switcher.get(method))\n",
        "      f = input(\"Equation: \")\n",
        "      a = float(input(\"Enter the first inital point for the entered equation: \"))\n",
        "      b = float(input(\"Enter the second inital point for the entered equation: \"))\n",
        "      c = float(input(\"Enter the third inital point for the entered equation: \"))\n",
        "      tol = float(input(\"Enter the maximum relative approximate error in percentage (without % sign): \"))\n",
        "      tol = tol/100\n",
        "      maxit = int(input(\"Enter the number of interations upto which you want to observe your equation: \"))\n",
        "      x = var('x')\n",
        "      expr = sympify(f)\n",
        "      f = lambdify(x, expr)\n",
        "      x,e = Muller(f,a, b, c,maxit,tol )\n",
        "      plot(f,e,x)\n",
        "      print(\"Root: x = {}\".format(x))\n",
        "    \n",
        "    elif switcher.get(method) == \"Bairstow Method\":\n",
        "      print(switcher.get(method))\n",
        "      f = input(\"Equation: \")\n",
        "      r = float(input(\"Enter the first inital point for the entered equation: \"))\n",
        "      s = float(input(\"Enter the second inital point for the entered equation: \"))\n",
        "      tol = float(input(\"Enter the maximum relative approximate error in percentage (without % sign): \"))\n",
        "      maxit = int(input(\"Enter the number of interations upto which you want to observe your equation: \"))\n",
        "      tol = tol/100\n",
        "      x = var('x')\n",
        "      expr = sympify(f)\n",
        "      f = lambdify(x, expr)\n",
        "      a = expr.collect(x).as_coefficients_dict()\n",
        "      cof = []\n",
        "      constant = 0\n",
        "      linear = 0\n",
        "      for i in a.keys():\n",
        "        if str(i) =='1':\n",
        "          constant = a[i]\n",
        "        elif str(i)=='x':\n",
        "          linear = a[i]\n",
        "        else:\n",
        "          cof.append(int(str(i).split('**')[1]))\n",
        "      cof.sort()\n",
        "      highcof = cof[len(cof)-1]\n",
        "      all_coeff = [0]*(highcof+1)\n",
        "      for it in cof:\n",
        "        all_coeff[it] = a[sympify('x**'+str(it))]\n",
        "      all_coeff[0] = constant\n",
        "      all_coeff[1] = linear\n",
        "      roots = []\n",
        "      x = Bairstow(highcof, all_coeff,r,s,roots, tol, maxit)\n",
        "      print(roots)\n",
        "      plt.plot(np.linspace(-10,10,1000),f(np.linspace(-10,10,1000)))\n",
        "    else:\n",
        "      print(\"Invalid method\")\n",
        "    "
      ],
      "execution_count": 39,
      "outputs": []
    },
    {
      "cell_type": "markdown",
      "metadata": {
        "id": "xvAUbrOxxJy8"
      },
      "source": [
        "#**Muller**"
      ]
    },
    {
      "cell_type": "code",
      "metadata": {
        "id": "_vWKehiZ0dG_"
      },
      "source": [
        "  def Muller(f,a, b, c,maxit,tol):\n",
        " \n",
        "    res = 0;\n",
        "    i = 0;\n",
        "    y_points = []\n",
        "    error = []\n",
        "    e = np.inf\n",
        "    while (i < maxit and e >= tol):\n",
        "        f1 = f(a); f2 = f(b); f3 = f(c);\n",
        "        y_points.append(f3)\n",
        "        d1 = f1 - f3;\n",
        "        d2 = f2 - f3;\n",
        "        h1 = a - c;\n",
        "        h2 = b - c;\n",
        "        a0 = f3;\n",
        "        a1 = (((d2 * pow(h1, 2)) -\n",
        "               (d1 * pow(h2, 2))) /\n",
        "              ((h1 * h2) * (h1 - h2)));\n",
        "        a2 = (((d1 * h2) - (d2 * h1)) /\n",
        "              ((h1 * h2) * (h1 - h2)));\n",
        "\n",
        "        try:\n",
        "          x = ((-2 * a0) / (a1 + abs(math.sqrt(a1 * a1 - 4 * a0 * a2))));\n",
        "          y = ((-2 * a0) / (a1 - abs(math.sqrt(a1 * a1 - 4 * a0 * a2))));\n",
        "        except:\n",
        "          print(\"Divide by 0\")\n",
        "          break\n",
        " \n",
        "        \n",
        "        if (x >= y):\n",
        "            res = x + c;\n",
        "        else:\n",
        "            res = y + c;\n",
        " \n",
        "        m = res * 100;\n",
        "        n = c * 100;\n",
        "        m = math.floor(m);\n",
        "        n = math.floor(n);\n",
        "        if (m == n):\n",
        "            break;\n",
        "        a = b;\n",
        "        b = c;\n",
        "        c = res;\n",
        "        if (i > maxit):\n",
        "            print(\"Root cannot be found using\",\n",
        "                            \"Muller's method\");\n",
        "            break;\n",
        "        e = abs((c - b)/c)\n",
        "        error.append(e)\n",
        "        i += 1\n",
        "    return  c, error\n"
      ],
      "execution_count": 36,
      "outputs": []
    },
    {
      "cell_type": "markdown",
      "metadata": {
        "id": "xAVIl4G2xNyX"
      },
      "source": [
        "#**Bairstow**"
      ]
    },
    {
      "cell_type": "code",
      "metadata": {
        "id": "EmilWhOp0fej"
      },
      "source": [
        "import numpy as np\n",
        "import cmath\n",
        "\n",
        "def Bairstow(n,a,r,s,x,tol=0.005,maxit = 100,current_iter =1):\n",
        "  if current_iter == maxit:\n",
        "    return None\n",
        "  if n < 1:\n",
        "    return None\n",
        "    \n",
        "  elif (n==1 and a[1]!=0):\n",
        "    x.append(float(-a[0])/float(a[1]))\n",
        "    return None\n",
        "\n",
        "  elif (n==2):\n",
        "    x1 = (-a[1] + cmath.sqrt((a[1]*a[1]) - 4*a[2]*a[0]))/(2.0*a[2])\n",
        "    x2 = (-a[1] - cmath.sqrt((a[1]*a[1]) - 4*a[2]*a[0]))/(2.0*a[2])\n",
        "    x.append(x1)\n",
        "    x.append(x2)\n",
        "    return None\n",
        "\n",
        "  if n>2:\n",
        "    e_r = float(1)\n",
        "    e_s = float(1)\n",
        "    while e_r>=tol and e_s>=tol:\n",
        "      b = np.zeros(n+1)\n",
        "      c = np.zeros(n+1)\n",
        "      b[n] = a[n]\n",
        "      b[n-1] = a[n-1] + r*b[n]\n",
        "      for i in range(n-2, -1, -1):\n",
        "        b[i] = a[i] + r*b[i+1] + s*b[i+2]\n",
        "      c[n] = b[n]\n",
        "      c[n-1] = b[n-1] + r*c[n]\n",
        "      for i in range(n-2, -1, -1):\n",
        "        c[i] = b[i] + r*c[i+1] + s*c[i+2]\n",
        "      c_m = np.asarray([c[1], c[2], c[2], c[3]]).reshape(2,2)\n",
        "      c_m_inv = np.linalg.inv(c_m)\n",
        "      b_m = np.asarray([-b[0], -b[1]]).reshape(2,1)\n",
        "      d = c_m_inv@b_m\n",
        "\n",
        "      r_new = r+d[0]\n",
        "      s_new = s+d[1]\n",
        "\n",
        "      e_r = abs((r_new-r)/r)\n",
        "      e_s = abs((s_new-s)/s)\n",
        "\n",
        "      r = r_new\n",
        "      s = s_new\n",
        "\n",
        "  if (r*r) + 4*s == 0:\n",
        "    x.append(r/2)\n",
        "  else:\n",
        "    x1 = (r + cmath.sqrt((r*r) + 4*s))/2\n",
        "    x2 = (r - cmath.sqrt((r*r) + 4*s))/2\n",
        "    x.append(x1)\n",
        "    x.append(x2)\n",
        "                \n",
        "  return Bairstow(n-2, b[2:], r, s, x,current_iter= current_iter+1)\n"
      ],
      "execution_count": 37,
      "outputs": []
    },
    {
      "cell_type": "code",
      "metadata": {
        "id": "ebLqCne6JaYA",
        "colab": {
          "base_uri": "https://localhost:8080/",
          "height": 480
        },
        "outputId": "d294f248-ad24-4778-a362-14805ed67423"
      },
      "source": [
        "print(\"Choose the number : \", {\n",
        "        1: \"Muller Method\",\n",
        "        2: \"Bairstow Method\",\n",
        "    })\n",
        "method_number = int(input())\n",
        "question_2(method_number)"
      ],
      "execution_count": 40,
      "outputs": [
        {
          "output_type": "stream",
          "name": "stdout",
          "text": [
            "Choose the number :  {1: 'Muller Method', 2: 'Bairstow Method'}\n",
            "1\n",
            "Muller Method\n",
            "Equation: x**2 - 4\n",
            "Enter the first inital point for the entered equation: 1\n",
            "Enter the second inital point for the entered equation: 3\n",
            "Enter the third inital point for the entered equation: 5\n",
            "Enter the maximum relative approximate error in percentage (without % sign): 0.0005\n",
            "Enter the number of interations upto which you want to observe your equation: 1000\n",
            "Dividing by 0\n"
          ]
        },
        {
          "output_type": "display_data",
          "data": {
            "image/png": "[encoded data removed]",
            "text/plain": [
              "<Figure size 432x288 with 2 Axes>"
            ]
          },
          "metadata": {
            "needs_background": "light"
          }
        },
        {
          "output_type": "stream",
          "name": "stdout",
          "text": [
            "Root: x = 2.0\n"
          ]
        }
      ]
    }
  ]
}