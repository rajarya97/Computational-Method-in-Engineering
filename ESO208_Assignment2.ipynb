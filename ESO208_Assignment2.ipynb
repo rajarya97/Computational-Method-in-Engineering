{
  "nbformat": 4,
  "nbformat_minor": 0,
  "metadata": {
    "colab": {
      "name": "Assignment_2_eso208_190673.ipynb",
      "provenance": [],
      "collapsed_sections": []
    },
    "kernelspec": {
      "display_name": "Python 3",
      "name": "python3"
    },
    "language_info": {
      "name": "python"
    }
  },
  "cells": [
    {
      "cell_type": "code",
      "metadata": {
        "id": "QufomhWGGNlZ"
      },
      "source": [
        "import numpy as np"
      ],
      "execution_count": 1,
      "outputs": []
    },
    {
      "cell_type": "code",
      "metadata": {
        "id": "k1t3HZT45-Jn"
      },
      "source": [
        "def taking_input():\n",
        "  A1= input(\"Enter the coefficients of eqaution {}:  \".format(1)).split()\n",
        "  # print(len(A1))\n",
        "  ls = []\n",
        "  ls.append(A1)\n",
        "  for i in range(len(A1)-1):\n",
        "    ls.append(input(\"Enter the coefficients of eqaution {}: \".format(i+2)).split())\n",
        "\n",
        "  A = np.array(ls).astype(float)\n",
        "  b = np.array(input(\"Enter the constants: \").split()).astype(float)\n",
        "  return A,b\n"
      ],
      "execution_count": 2,
      "outputs": []
    },
    {
      "cell_type": "markdown",
      "metadata": {
        "id": "PBnpOdZrGLLN"
      },
      "source": [
        "## (a) Gauss Elimination without pivoting"
      ]
    },
    {
      "cell_type": "code",
      "metadata": {
        "id": "ShS9DSs-F5Mc"
      },
      "source": [
        "def forward_elimination(A, b):\n",
        "    for row in range(0, A.shape[0]-1):\n",
        "        for i in range(row+1, A.shape[0]):\n",
        "            factor = A[i,row] / A[row,row]\n",
        "            for j in range(row, A.shape[0]):\n",
        "                A[i,j] = A[i,j] - factor * A[row,j]\n",
        "            b[i] = b[i] - factor * b[row]\n",
        "\n",
        "        # print('A = \\n%s and b = %s' % (A,b))\n",
        "    return A, b\n",
        "\n",
        "def back_substitution(a, b):\n",
        "    x = np.zeros((a.shape[0],1))\n",
        "    x[a.shape[0]-1] = b[a.shape[0]-1] / a[a.shape[0]-1, a.shape[0]-1]\n",
        "    for row in range(a.shape[0]-2, -1, -1):\n",
        "        sums = b[row]\n",
        "        for j in range(row+1, a.shape[0]):\n",
        "            sums = sums - a[row,j] * x[j]\n",
        "        x[row] = sums / a[row,row]\n",
        "    return x\n",
        "\n",
        "def gauss_without_pivoting(A, b):\n",
        "    if any(np.diag(A)==0):\n",
        "        raise ZeroDivisionError(('Division by zero will occur; '\n",
        "                                  'pivoting currently not supported'))\n",
        "\n",
        "    A, b = forward_elimination(A, b)\n",
        "    return back_substitution(A, b)"
      ],
      "execution_count": 3,
      "outputs": []
    },
    {
      "cell_type": "markdown",
      "metadata": {
        "id": "o-MUuhVKLkEY"
      },
      "source": [
        "2\n",
        "## (b) Gauss Elimination with pivoting"
      ]
    },
    {
      "cell_type": "code",
      "metadata": {
        "id": "JQ1spyxfLoHp"
      },
      "source": [
        "def gep(A,b):\n",
        "  n = len(A)\n",
        "  M = A\n",
        "\n",
        "  i = 0\n",
        "  for x in M:\n",
        "   np.append(x,b[i])\n",
        "   x.append(b[i])\n",
        "   i += 1\n",
        "  for k in range(n):\n",
        "   for i in range(k,n):\n",
        "     if abs(M[i][k]) > abs(M[k][k]):\n",
        "        M[k], M[i] = M[i],M[k]\n",
        "     else:\n",
        "        pass\n",
        "\n",
        "   for j in range(k+1,n):\n",
        "       q = float(M[j][k]) / M[k][k]\n",
        "       for m in range(k, n+1):\n",
        "          M[j][m] -=  q * M[k][m]\n",
        "\n",
        "  x = [0 for i in range(n)]\n",
        "\n",
        "  x[n-1] =float(M[n-1][n])/M[n-1][n-1]\n",
        "  for i in range (n-1,-1,-1):\n",
        "    z = 0\n",
        "    for j in range(i+1,n):\n",
        "        z = z  + float(M[i][j])*x[j]\n",
        "    x[i] = float(M[i][n] - z)/M[i][i]\n",
        "  return x\n",
        "\n"
      ],
      "execution_count": 4,
      "outputs": []
    },
    {
      "cell_type": "markdown",
      "metadata": {
        "id": "bim00uIHHMhV"
      },
      "source": [
        "## (c) Gauss Elimination with pivoting and scaling\n"
      ]
    },
    {
      "cell_type": "code",
      "metadata": {
        "id": "i89Z-X1fGS4u"
      },
      "source": [
        "import numpy as np\n",
        "def gauss_pivot_scaling(a,b,tol=1.0e-12):\n",
        "\n",
        "    a = np.copy(a)\n",
        "    b = np.copy(b)\n",
        "    n = len(b)\n",
        "    assert (np.all(np.shape(a) ==(n,n))) \n",
        "    \n",
        "    s = np.zeros(n)\n",
        "    for i in range(n):\n",
        "        s[i] = max(np.abs(a[i,:]))\n",
        "    for k in range(0, n-1): #pivot row\n",
        "        # Row interchange, if needed\n",
        "        p = np.argmax(np.abs(a[k:n,k])/s[k:n]) \n",
        "        if abs(a[p,k]) < tol: \n",
        "            raise Exception(\"Matrix is singular\")\n",
        "        if p != k: \n",
        "            a[[k,p+k],:] = a[[p+k, k],:]\n",
        "            b[k],b[p+k] = b[p+k],b[k] \n",
        "            s[k],s[p+k] = s[p+k],s[k]\n",
        "\n",
        "        \n",
        "        for i in range(k+1,n):\n",
        "            if a[i,k] != 0.0: \n",
        "                lam = a [i,k]/a[k,k] \n",
        "                a[i,k:n] = a[i,k:n] - lam*a[k,k:n]\n",
        "                b[i] = b[i] - lam*b[k]\n",
        "\n",
        "    if abs(a[n-1,n-1]) < tol: \n",
        "        raise Exception(\"Matrix is singular\")\n",
        "\n",
        "    x = np.zeros_like(b)\n",
        "    x[n-1] = b[n-1]/a[n-1,n-1]\n",
        "    for k in range(n-2,-1,-1):\n",
        "        x[k] = (b[k] - np.dot(a[k,k+1:n],x[k+1:n]))/a[k,k]\n",
        "    return x\n"
      ],
      "execution_count": 5,
      "outputs": []
    },
    {
      "cell_type": "markdown",
      "metadata": {
        "id": "_BcFmejFIglQ"
      },
      "source": [
        "\n",
        "\n",
        "## (d) LU without pivoting\n",
        "\n"
      ]
    },
    {
      "cell_type": "code",
      "metadata": {
        "id": "29Tvln69IgDr"
      },
      "source": [
        "def lu_without_pivoting(A):\n",
        "    n = A.shape[0]\n",
        "    U = A.copy()\n",
        "    L = np.eye(n, dtype=np.double)\n",
        "    for i in range(n):\n",
        "        factor = U[i+1:, i] / U[i, i]\n",
        "        L[i+1:, i] = factor\n",
        "        U[i+1:] -= factor[:, np.newaxis] * U[i]  \n",
        "    return L, U\n",
        "\n",
        "def forward_substitution(L, b):\n",
        "    n = L.shape[0]\n",
        "    y = np.zeros_like(b, dtype=np.double);\n",
        "    y[0] = b[0] / L[0, 0]\n",
        "    for i in range(1, n):\n",
        "        y[i] = (b[i] - np.dot(L[i,:i], y[:i])) / L[i,i]\n",
        "    return y\n",
        "\n",
        "def back_substitution(U, y):\n",
        "    n = U.shape[0]\n",
        "    x = np.zeros_like(y, dtype=np.double);\n",
        "    x[-1] = y[-1] / U[-1, -1]\n",
        "    for i in range(n-2, -1, -1):\n",
        "        x[i] = (y[i] - np.dot(U[i,i:], x[i:])) / U[i,i]\n",
        "    return x\n",
        "\n",
        "def lu_without_pivoting_solve(A, b):\n",
        "    L, U = lu_without_pivoting(A)\n",
        "    print(\"L = \" + str(L) + \"\\n\")\n",
        "    print(\"U = \" + str(U) + \"\\n\")\n",
        "    y = forward_substitution(np.array(L), b)\n",
        "    return back_substitution(np.array(U), y)\n",
        "\n",
        "\n"
      ],
      "execution_count": 6,
      "outputs": []
    },
    {
      "cell_type": "markdown",
      "metadata": {
        "id": "7xJvLKsaMJ-W"
      },
      "source": [
        "## (e) LU with pivoting"
      ]
    },
    {
      "cell_type": "code",
      "metadata": {
        "id": "-asIFfO5LEyW"
      },
      "source": [
        "def LU(A):\n",
        "\tn = len(A)\n",
        "\tb = [0 for i in range(n)]\n",
        "\tfor i in range(0,n):\n",
        "\t\tb[i]=A[i]*n\n",
        "\n",
        "\tL_p = [[0 for i in range(n)] for i in range(n)]\n",
        "\tfor i in range(0,n):\n",
        "\t\tL_p[i][i] = 1\n",
        "\n",
        "\tU_p = [[0 for i in range(0,n)] for i in range(n)]\n",
        "\tfor i in range(0,n):\n",
        "\t\tfor j in range(0,n):\n",
        "\t\t\tU_p[i][j] = A[i][j]\n",
        "\n",
        "\tn = len(U_p)\n",
        "\n",
        "\tfor i in range(0,n):\n",
        "\t\tmaxElem = abs(U_p[i][i])\n",
        "\t\tmaxRow = i\n",
        "\t\tfor k in range(i+1, n):\n",
        "\t\t\tif(abs(U_p[k][i]) > maxElem):\n",
        "\t\t\t\tmaxElem = abs(U_p[k][i])\n",
        "\t\t\t\tmaxRow = k\n",
        "\n",
        "\t\tfor k in range(i, n):\n",
        "\t\t\ttmp=U_p[maxRow][k]\n",
        "\t\t\tU_p[maxRow][k]=U_p[i][k]\n",
        "\t\t\tU_p[i][k]=tmp\n",
        "\n",
        "\t\tfor k in range(i+1,n):\n",
        "\t\t\tc = -U_p[k][i]/float(U_p[i][i])\n",
        "\t\t\tL_p[k][i] = c \n",
        "\t\t\tfor j in range(i, n):\n",
        "\t\t\t\tU_p[k][j] += c*U_p[i][j] \n",
        "\n",
        "\t\tfor k in range(i+1, n):\n",
        "\t\t\tU_p[k][i]=0\n",
        "\treturn L_p, U_p\n",
        "\n",
        "def forward_substitution(L, b):\n",
        "    n = L.shape[0]\n",
        "    y = np.zeros_like(b, dtype=np.double);\n",
        "    y[0] = b[0] / L[0, 0]\n",
        "    for i in range(1, n):\n",
        "        y[i] = (b[i] - np.dot(L[i,:i], y[:i])) / L[i,i]\n",
        "        \n",
        "    return y\n",
        "\n",
        "def back_substitution(U, y):\n",
        "    n = U.shape[0]\n",
        "    x = np.zeros_like(y, dtype=np.double)\n",
        "    x[-1] = y[-1] / U[-1, -1]\n",
        "    for i in range(n-2, -1, -1):\n",
        "        x[i] = (y[i] - np.dot(U[i,i:], x[i:])) / U[i,i]\n",
        "    return x\n",
        "def lu_with_pivoting_solve(A, b):\n",
        "  L_p, U_p = LU(A)\n",
        "  L_p = np.array(L_p)\n",
        "  L_p = 2*np.eye(len(A)) -L_p\n",
        "  U_p = np.array(U_p)\n",
        "  print(\"L = \" + str(L_p) + \"\\n\")\n",
        "  print(\"U = \" + str(U_p) + \"\\n\")\n",
        "  y = forward_substitution(L_p, b)\n",
        "  return back_substitution(U_p, y)\n"
      ],
      "execution_count": 7,
      "outputs": []
    },
    {
      "cell_type": "code",
      "metadata": {
        "id": "Wfku9Fj1JeDo"
      },
      "source": [
        ""
      ],
      "execution_count": null,
      "outputs": []
    },
    {
      "cell_type": "markdown",
      "metadata": {
        "id": "KgDBkOlmH0Np"
      },
      "source": [
        "## (f) Crout Method"
      ]
    },
    {
      "cell_type": "code",
      "metadata": {
        "id": "qy9OhNYYJs_e"
      },
      "source": [
        "\n",
        "def crout(A):\n",
        "    L = np.matrix([[0.0,0.0,0.0],[0.0,0.0,0.0],[0.0,0.0,0.0]])\n",
        "    U = np.matrix([[0.0,0.0,0.0],[0.0,0.0,0.0],[0.0,0.0,0.0]])\n",
        "    n = len(A)\n",
        "    for z in range(n):\n",
        "        U[z,z] = 1             \n",
        "        for j in range(z,n):\n",
        "            temporary_L = float(A[j,z])\n",
        "            for k in range(z):\n",
        "                temporary_L -= L[j,k]*U[k,z]\n",
        "            L[j,z] = temporary_L\n",
        "        for j in range(z+1, n):\n",
        "            temporary_U = float(A[z,j])\n",
        "            for k in range(z):\n",
        "                temporary_U -= L[z,k]*U[k,j]\n",
        "            U[z,j] = temporary_U / L[z,z]\n",
        "    return (L, U)\n",
        "\n",
        "def forward_substitution(L, b):\n",
        "    y = np.full_like(b,0)\n",
        "    for k in range(len(b)):\n",
        "        y[k] = b[k]\n",
        "        for i in range(k):\n",
        "            y[k] = y[k] - (L[k, i]*y[i])\n",
        "        y[k] = y[k] / L[k, k]\n",
        "    return y\n",
        "\n",
        "def backward_substitution(U, y):\n",
        "    x = np.full_like(y,0)\n",
        "    for k in range(len(x), 0, -1):\n",
        "      x[k-1] = (y[k-1] - np.dot(U[k-1, k:], x[k:])) / U[k-1, k-1]\n",
        "    return x\n",
        "\n",
        "def final_crout_solution(A, b):\n",
        "    L, U = crout(A)\n",
        "    print(\"L = \" + str(L) + \"\\n\")\n",
        "    print(\"U = \" + str(U) + \"\\n\")\n",
        "    \n",
        "    y = forward_substitution(L,b)\n",
        "    x = backward_substitution(U,y)\n",
        "    \n",
        "    return x"
      ],
      "execution_count": 8,
      "outputs": []
    },
    {
      "cell_type": "markdown",
      "metadata": {
        "id": "fF-9DSgtHW-B"
      },
      "source": [
        "## (g) Cholesky decomposition"
      ]
    },
    {
      "cell_type": "code",
      "metadata": {
        "id": "wCEWwbhSHGcn"
      },
      "source": [
        "import numpy as np\n",
        "from math import sqrt\n",
        "\n",
        "\n",
        "def cholesky_decomposition(M):\n",
        "  \n",
        "\n",
        "    A = np.copy(M)\n",
        "    n = A.shape[0]\n",
        "    R = np.zeros_like(A)\n",
        "\n",
        "    for k in range(n):\n",
        "        R[k, k] = sqrt(A[k, k])\n",
        "        R[k, k + 1:] = A[k, k + 1:] / R[k, k]\n",
        "        for j in range(k + 1, n):\n",
        "            A[j, j:] = A[j, j:] - R[k, j] * R[k, j:]\n",
        "\n",
        "    return R\n",
        "\n",
        "\n",
        "\n",
        "def forward_substitution(L, b):\n",
        "    n = L.shape[0]\n",
        "    y = np.zeros_like(b, dtype=np.double);\n",
        "    y[0] = b[0] / L[0, 0]\n",
        "    for i in range(1, n):\n",
        "        y[i] = (b[i] - np.dot(L[i,:i], y[:i])) / L[i,i]\n",
        "        \n",
        "    return y\n",
        "\n",
        "def back_substitution(U, y):\n",
        "    n = U.shape[0]\n",
        "    x = np.zeros_like(y, dtype=np.double);\n",
        "    x[-1] = y[-1] / U[-1, -1]\n",
        "    for i in range(n-2, -1, -1):\n",
        "        x[i] = (y[i] - np.dot(U[i,i:], x[i:])) / U[i,i]        \n",
        "    return x\n",
        "\n",
        "def final_cholesky_solution(A, b):\n",
        "    U = cholesky_decomposition(A)\n",
        "    L = U.T\n",
        "    print(\"L = \" + str(L) + \"\\n\")\n",
        "    print(\"U = \" + str(U) + \"\\n\")\n",
        "    \n",
        "    y = forward_substitution(L,b)\n",
        "    x = backward_substitution(U,y)\n",
        "    \n",
        "    return x"
      ],
      "execution_count": 9,
      "outputs": []
    },
    {
      "cell_type": "code",
      "metadata": {
        "colab": {
          "base_uri": "https://localhost:8080/"
        },
        "id": "R7wjUr0X2G7S",
        "outputId": "784aff94-9ea8-46d4-cb9c-557995dc8867"
      },
      "source": [
        "def Question_1(method):\n",
        "    switcher = {\n",
        "        1: \"Gauss Elimination without pivoting\",\n",
        "        2: \"Gauss Elimination with pivoting\",\n",
        "        3: \"Gauss Elimination with pivoting and scaling\",\n",
        "        4: \"LU without pivoting\",\n",
        "        5: \"LU with pivoting\",\n",
        "        6: \"Crout Method\",\n",
        "        7:\"Cholesky decomposition\"\n",
        "    }\n",
        "\n",
        "\n",
        "    if switcher.get(method) == \"Gauss Elimination without pivoting\":\n",
        "      print(\"You choose: \" + switcher.get(method))\n",
        "      A,b = taking_input()\n",
        "      x = gauss_without_pivoting(A,b)\n",
        "      print(x)\n",
        "      \n",
        "      \n",
        "\n",
        "    elif switcher.get(method) == \"Gauss Elimination with pivoting\":\n",
        "      print(\"You choose: \" + switcher.get(method))\n",
        "      A,b = taking_input()\n",
        "      x = gep(A.tolist(),b.tolist())\n",
        "      print(x)\n",
        "\n",
        "\n",
        "     \n",
        "\n",
        "\n",
        "\n",
        "    elif switcher.get(method) == \"Gauss Elimination with pivoting and scaling\":\n",
        "      print(\"You choose: \" + switcher.get(method))\n",
        "      A,b = taking_input()\n",
        "      x = gauss_pivot_scaling(A,b)\n",
        "      print(x)\n",
        "      \n",
        "\n",
        "\n",
        "\n",
        "\n",
        "    elif switcher.get(method) == \"LU without pivoting\":\n",
        "      print(\"You choose: \" + switcher.get(method))\n",
        "      A,b = taking_input()\n",
        "      x = lu_without_pivoting_solve(A,b)\n",
        "      print(x)\n",
        "\n",
        "    elif switcher.get(method) == \"LU with pivoting\":\n",
        "      print(\"You choose: \" + switcher.get(method))\n",
        "      A,b = taking_input()\n",
        "      x = lu_with_pivoting_solve(A,b)\n",
        "      print(x)\n",
        "\n",
        "    elif switcher.get(method) == \"Crout Method\":\n",
        "      print(\"You choose: \" + switcher.get(method))\n",
        "      A,b = taking_input()\n",
        "      x = final_crout_solution(A,b)\n",
        "      print(x)\n",
        "      \n",
        "\n",
        "    elif switcher.get(method) == \"Cholesky decomposition\":\n",
        "      print(\"You choose: \" + switcher.get(method))\n",
        "      A,b = taking_input()\n",
        "      x = final_cholesky_solution(A,b)\n",
        "      print(x)\n",
        "\n",
        "    else:\n",
        "      print(\"Invalid method\")\n",
        "\n",
        "print(\"Choose the number : \", {\n",
        "      1: \"Gauss Elimination without pivoting\",\n",
        "        2: \"Gauss Elimination with pivoting\",\n",
        "        3: \"Gauss Elimination with pivoting and scaling\",\n",
        "        4: \"LU without pivoting\",\n",
        "        5: \"LU with pivoting\",\n",
        "        6: \"Crout Method\",\n",
        "        7:\"Cholesky decomposition\"\n",
        "    })\n",
        "\n",
        "# A = np.array([[4, 2, 0], [2, 4, 1], [0, 1., 5]])\n",
        "# b = np.array([10, 11.5, 5.])\n",
        "Question_1(int(input()))"
      ],
      "execution_count": null,
      "outputs": [
        {
          "output_type": "stream",
          "name": "stdout",
          "text": [
            "Choose the number :  {1: 'Gauss Elimination without pivoting', 2: 'Gauss Elimination with pivoting', 3: 'Gauss Elimination with pivoting and scaling', 4: 'LU without pivoting', 5: 'LU with pivoting', 6: 'Crout Method', 7: 'Cholesky decomposition'}\n",
            "7\n",
            "You choose: Cholesky decomposition\n",
            "Enter the coefficients of eqaution 1:  4 2 0\n",
            "Enter the coefficients of eqaution 2: 2 4 1\n",
            "Enter the coefficients of eqaution 3: 0 1 5\n",
            "Enter the constants: 10 11.5 5\n",
            "L = [[2.         0.         0.        ]\n",
            " [1.         1.73205081 0.        ]\n",
            " [0.         0.57735027 2.1602469 ]]\n",
            "\n",
            "U = [[2.         1.         0.        ]\n",
            " [0.         1.73205081 0.57735027]\n",
            " [0.         0.         2.1602469 ]]\n",
            "\n",
            "[1.51785714 1.96428571 0.60714286]\n"
          ]
        }
      ]
    }
  ]
}